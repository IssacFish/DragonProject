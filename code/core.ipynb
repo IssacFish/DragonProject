{
 "cells": [
  {
   "cell_type": "code",
   "execution_count": 3,
   "metadata": {
    "collapsed": false,
    "deletable": true,
    "editable": true
   },
   "outputs": [
    {
     "name": "stdout",
     "output_type": "stream",
     "text": [
      "Data analysis process is running!\n",
      "Connecting mysql database.\n",
      "1.0\n",
      "2d-bc-le\n",
      "1.0\n",
      "s-extr\n",
      "0.990577149588\n",
      "2d-bc-qc\n",
      "0.850401606426\n",
      "d-cnc2\n",
      "1.0\n",
      "polish-qc\n",
      "0.785192909281\n",
      "d-cnc7\n",
      "1.0\n",
      "cnc7-qc\n",
      "1.0\n",
      "cnc7-pkg\n",
      "0.981152993348\n",
      "sb-qc\n",
      "1.0\n",
      "a-cbn\n",
      "1.0\n",
      "a-glo\n",
      "1.0\n",
      "ano-qc\n",
      "0.998754669988\n",
      "ano-pkg\n",
      "0.925249169435\n",
      "d-cnc9\n",
      "0.688787185355\n",
      "a-thk\n",
      "1.0\n",
      "cnc10-qc\n",
      "1.0\n",
      "cnc10-pkg\n",
      "0.994764397906\n",
      "printing-qc\n",
      "1.0\n",
      "a-flt\n",
      "1.0\n",
      "a-xy\n",
      "0.988031914894\n",
      "a-ldg\n",
      "0.99861878453\n",
      "aim\n",
      "1.0\n",
      "fqc\n",
      "0.998581560284\n",
      "fatp-lbl\n",
      "1.0\n",
      "si\n",
      "        station scanningRate\n",
      "0      2d-bc-le          100\n",
      "1        s-extr          100\n",
      "2      2d-bc-qc      99.0577\n",
      "3        d-cnc2      85.0402\n",
      "4     polish-qc          100\n",
      "5        d-cnc7      78.5193\n",
      "6       cnc7-qc          100\n",
      "7      cnc7-pkg          100\n",
      "8         sb-qc      98.1153\n",
      "9         a-cbn          100\n",
      "10        a-glo          100\n",
      "11       ano-qc          100\n",
      "12      ano-pkg      99.8755\n",
      "13       d-cnc9      92.5249\n",
      "14        a-thk      68.8787\n",
      "15     cnc10-qc          100\n",
      "16    cnc10-pkg          100\n",
      "17  printing-qc      99.4764\n",
      "18        a-flt          100\n",
      "19         a-xy          100\n",
      "20        a-ldg      98.8032\n",
      "21          aim      99.8619\n",
      "22          fqc          100\n",
      "23     fatp-lbl      99.8582\n",
      "24           si          100\n",
      "25       fg-pkg          100\n",
      "Draw scanning rate bar graph！\n"
     ]
    },
    {
     "data": {
      "image/png": "[encoded data removed]",
      "text/plain": [
       "<matplotlib.figure.Figure at 0x118589400>"
      ]
     },
     "metadata": {},
     "output_type": "display_data"
    },
    {
     "name": "stdout",
     "output_type": "stream",
     "text": [
      "Closing mysql database.\n"
     ]
    }
   ],
   "source": [
    "%load main.py"
   ]
  },
  {
   "cell_type": "code",
   "execution_count": null,
   "metadata": {
    "collapsed": true
   },
   "outputs": [],
   "source": []
  }
 ],
 "metadata": {
  "kernelspec": {
   "display_name": "Python 3",
   "language": "python",
   "name": "python3"
  },
  "language_info": {
   "codemirror_mode": {
    "name": "ipython",
    "version": 3
   },
   "file_extension": ".py",
   "mimetype": "text/x-python",
   "name": "python",
   "nbconvert_exporter": "python",
   "pygments_lexer": "ipython3",
   "version": "3.6.0"
  }
 },
 "nbformat": 4,
 "nbformat_minor": 2
}
